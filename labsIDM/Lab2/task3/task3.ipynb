{
 "cells": [
  {
   "cell_type": "code",
   "execution_count": null,
   "metadata": {},
   "outputs": [],
   "source": [
    "import requests\n",
    "import json"
   ]
  },
  {
   "cell_type": "code",
   "execution_count": null,
   "metadata": {},
   "outputs": [],
   "source": [
    "url= 'https://v6.exchangerate-api.com/v6/a7df495613519c5f2da58c97/latest/USD'\n",
    "response = requests.get(url)\n",
    "data = response.json()\n",
    "json_formatted_str = json.dumps(data, indent=4) \n",
    "print(json_formatted_str)\n",
    "data = data['conversion_rates']"
   ]
  },
  {
   "cell_type": "code",
   "execution_count": null,
   "metadata": {},
   "outputs": [],
   "source": [
    "have = input(\"what currency you have?\")\n",
    "have_rate= float (data[have])\n",
    "want = input(\"what currency you want?\")\n",
    "want_rate= float(data[want]) \n",
    "print(\"For 1 %s you can get %f %s\"%(have,want_rate/have_rate,want))"
   ]
  }
 ],
 "metadata": {
  "interpreter": {
   "hash": "1a40863750367200c88a0094d87b875140bd0f2cffbecc107a7d233aa34e83e8"
  },
  "kernelspec": {
   "display_name": "Python 3.9.10 64-bit (windows store)",
   "language": "python",
   "name": "python3"
  },
  "language_info": {
   "codemirror_mode": {
    "name": "ipython",
    "version": 3
   },
   "file_extension": ".py",
   "mimetype": "text/x-python",
   "name": "python",
   "nbconvert_exporter": "python",
   "pygments_lexer": "ipython3",
   "version": "3.10.3"
  },
  "orig_nbformat": 4
 },
 "nbformat": 4,
 "nbformat_minor": 2
}
