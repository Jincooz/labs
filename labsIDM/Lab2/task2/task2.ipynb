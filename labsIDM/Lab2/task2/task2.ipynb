{
 "cells": [
  {
   "cell_type": "code",
   "execution_count": null,
   "metadata": {},
   "outputs": [],
   "source": [
    "import pandas as pd\n",
    "import numpy as np\n",
    "from matplotlib import pyplot as plt"
   ]
  },
  {
   "cell_type": "code",
   "execution_count": null,
   "metadata": {},
   "outputs": [],
   "source": [
    "dataset = pd.read_csv('wb_data.csv', low_memory = False, on_bad_lines='skip')\n",
    "dictionary_ideicator = pd.read_csv('Metadata_Indicator_wb_data.csv', low_memory = False, on_bad_lines='skip')\n",
    "dictionary_country = pd.read_csv('Metadata_Country_wb_data.csv', low_memory = False, on_bad_lines='skip')"
   ]
  },
  {
   "cell_type": "code",
   "execution_count": null,
   "metadata": {},
   "outputs": [],
   "source": [
    "dataset_GDP_growth = dataset[dataset['Indicator Name'] == 'GDP growth (annual %)']\n",
    "Ukraine_GDP_growth_index = dataset_GDP_growth[dataset_GDP_growth['Country Code'] == 'UKR'].index[0]\n",
    "USA_GDP_growth_index = dataset_GDP_growth[dataset_GDP_growth['Country Code'] == 'USA'].index[0]\n",
    "China_GDP_growth_index = dataset_GDP_growth[dataset_GDP_growth['Country Code'] == 'CHN'].index[0]\n",
    "UKR_USA_CHN_GDP_growth_index = dataset.loc[[Ukraine_GDP_growth_index, USA_GDP_growth_index, China_GDP_growth_index]]\n",
    "UKR_USA_CHN_GDP_growth_index = UKR_USA_CHN_GDP_growth_index.set_index('Country Code')\n",
    "UKR_USA_CHN_GDP_growth_index.pop('Country Name')\n",
    "UKR_USA_CHN_GDP_growth_index.pop('Indicator Name')\n",
    "UKR_USA_CHN_GDP_growth_index.pop('Indicator Code')\n",
    "UKR_USA_CHN_GDP_growth_index.pop(\"Unnamed: 65\")\n",
    "UKR_USA_CHN_GDP_growth_index = UKR_USA_CHN_GDP_growth_index.T\n",
    "UKR_USA_CHN_GDP_growth_index.to_csv(\"UKR_USA_CHN_GDP_growth_index.csv\")\n",
    "UKR_USA_CHN_GDP_growth_index"
   ]
  },
  {
   "cell_type": "code",
   "execution_count": null,
   "metadata": {},
   "outputs": [],
   "source": [
    "\n",
    "plt.rcParams['figure.figsize'] = [20, 5]\n",
    "plt.plot(UKR_USA_CHN_GDP_growth_index['UKR'])\n",
    "plt.plot(UKR_USA_CHN_GDP_growth_index['USA'])\n",
    "plt.plot(UKR_USA_CHN_GDP_growth_index['CHN'])\n",
    "plt.legend(['Ukrain',\"USA\",\"China\"])\n",
    "plt.ylabel(\"GDP growth (annual %)\")\n",
    "plt.xlabel(\"Year\")\n",
    "plt.tick_params(axis = 'x', labelrotation = 90, labelsize = 9)\n",
    "plt.show()"
   ]
  }
 ],
 "metadata": {
  "interpreter": {
   "hash": "38740d3277777e2cd7c6c2cc9d8addf5118fdf3f82b1b39231fd12aeac8aee8b"
  },
  "kernelspec": {
   "display_name": "Python 3.9.7 64-bit",
   "language": "python",
   "name": "python3"
  },
  "language_info": {
   "codemirror_mode": {
    "name": "ipython",
    "version": 3
   },
   "file_extension": ".py",
   "mimetype": "text/x-python",
   "name": "python",
   "nbconvert_exporter": "python",
   "pygments_lexer": "ipython3",
   "version": "3.10.3"
  },
  "orig_nbformat": 4
 },
 "nbformat": 4,
 "nbformat_minor": 2
}
