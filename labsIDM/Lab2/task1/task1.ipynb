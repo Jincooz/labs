{
 "cells": [
  {
   "cell_type": "code",
   "execution_count": null,
   "metadata": {},
   "outputs": [],
   "source": [
    "import pandas as pd\n",
    "import numpy as np\n",
    "from matplotlib import pyplot as plt"
   ]
  },
  {
   "cell_type": "code",
   "execution_count": null,
   "metadata": {},
   "outputs": [],
   "source": [
    "dataset = pd.read_csv('p2022-resultats-circonscriptions-t1.csv', low_memory = False, on_bad_lines='skip',encoding = \"UTF-8\")"
   ]
  },
  {
   "cell_type": "code",
   "execution_count": null,
   "metadata": {},
   "outputs": [],
   "source": [
    "dataset"
   ]
  },
  {
   "cell_type": "code",
   "execution_count": null,
   "metadata": {},
   "outputs": [],
   "source": [
    "print(f'amount of rows : {dataset.shape[0]}\\namount of columns : {dataset.shape[1]}')\n",
    "dictionary = dict()\n",
    "for dtype in dataset.dtypes:\n",
    "    if dtype.name in dictionary:\n",
    "        dictionary[dtype.name] += 1\n",
    "    else:\n",
    "        dictionary[dtype.name] = 1\n",
    "dictionary['string'] = dictionary['object']\n",
    "dictionary.pop('object')\n",
    "print(dictionary)"
   ]
  },
  {
   "cell_type": "code",
   "execution_count": null,
   "metadata": {},
   "outputs": [],
   "source": [
    "dataset.items"
   ]
  }
 ],
 "metadata": {
  "interpreter": {
   "hash": "1a40863750367200c88a0094d87b875140bd0f2cffbecc107a7d233aa34e83e8"
  },
  "kernelspec": {
   "display_name": "Python 3.9.12 64-bit (windows store)",
   "language": "python",
   "name": "python3"
  },
  "language_info": {
   "codemirror_mode": {
    "name": "ipython",
    "version": 3
   },
   "file_extension": ".py",
   "mimetype": "text/x-python",
   "name": "python",
   "nbconvert_exporter": "python",
   "pygments_lexer": "ipython3",
   "version": "3.10.3"
  },
  "orig_nbformat": 4
 },
 "nbformat": 4,
 "nbformat_minor": 2
}
