{
 "cells": [
  {
   "cell_type": "code",
   "execution_count": null,
   "metadata": {},
   "outputs": [],
   "source": [
    "import pandas as pd\n",
    "import numpy as np\n",
    "from matplotlib import pyplot as plt"
   ]
  },
  {
   "cell_type": "code",
   "execution_count": null,
   "metadata": {},
   "outputs": [],
   "source": [
    "data_GDP = pd.read_excel('GDP 1990-2020.xlsx')\n",
    "data_Income_Outcome = pd.read_excel('Income and Outcome 2010-2020.xlsx')\n",
    "data_Inflation = pd.read_excel('Inflation 1992-2020.xlsx')\n",
    "data_Population = pd.read_excel('Population 2002-2020.xlsx')\n",
    "data_Unemployment = pd.read_excel('Unemployment 2010-2021.xlsx')\n",
    "data_2Inflation = data_Inflation[:]\n",
    "Inflat_level = 100\n",
    "for i in range(1992, 2022):\n",
    "    Inflat_level *= data_Inflation[i]/100\n",
    "    data_2Inflation[i] = Inflat_level\n",
    "data_2Inflation['Unnamed: 0'] = 'Рівень інфляції'"
   ]
  },
  {
   "cell_type": "code",
   "execution_count": null,
   "metadata": {},
   "outputs": [],
   "source": [
    "dataset = pd.concat([data_GDP, data_Population, data_Income_Outcome, data_Inflation, data_2Inflation, data_Unemployment], \n",
    "                                                                                    ignore_index = True)\n",
    "dataset.pop('Unnamed: 1')\n",
    "dataset.rename(columns = {'Unnamed: 0':int(0)}, inplace = True)\n",
    "dataset.columns\n",
    "for column in dataset.columns:\n",
    "    dataset.rename(columns = {column:int(column)},inplace = True)\n",
    "dataset.sort_index(axis = 1, inplace = True)\n",
    "dataset.rename(columns = {0:\"Type\"}, inplace = True)\n",
    "dataset.set_index('Type', inplace = True)\n",
    "dataset"
   ]
  },
  {
   "cell_type": "code",
   "execution_count": null,
   "metadata": {},
   "outputs": [],
   "source": [
    "plt.rcParams['figure.figsize'] = [30, 20]\n",
    "fig, axs = plt.subplots(2,3)\n",
    "axs[0][0].plot(dataset.loc['ВВП'])\n",
    "axs[0][0].set_title('ВВП')\n",
    "axs[0][1].plot(dataset.loc['Рівень інфляції'])\n",
    "axs[0][1].set_title('Рівень інфляції')\n",
    "axs[1][0].plot(dataset.loc['Населення'])\n",
    "axs[1][0].set_title('Населення')\n",
    "axs[1][1].plot(dataset.loc['Інфляція'])\n",
    "axs[1][1].set_title('Інфляція')\n",
    "axs[0][2].plot(dataset.loc['Безробітне населення'])\n",
    "axs[0][2].set_title('Безробітне населення')\n",
    "axs[1][2].plot(dataset.loc['Доходи'])\n",
    "axs[1][2].plot(dataset.loc['Витрати та заощадження'])\n",
    "axs[1][2].legend([\"Доходи\",\"Витрати та заощадження\"])\n",
    "axs[1][2].set_title('Доходи та витрати')\n",
    "plt.show()"
   ]
  },
  {
   "cell_type": "code",
   "execution_count": null,
   "metadata": {},
   "outputs": [],
   "source": [
    "def pxy(dataset,rowx_name,rowy_name):\n",
    "    rowx = dataset.loc[rowx_name,::]\n",
    "    rowy = dataset.loc[rowy_name,::]\n",
    "    rowx_notna = rowx.notna()\n",
    "    rowy_notna = rowy.notna()\n",
    "    rowx_mean = rowx.mean()\n",
    "    rowy_mean = rowy.mean()\n",
    "    Sx2 = 0\n",
    "    S2 = 0\n",
    "    cov = 0\n",
    "    for i in range(len(rowx)):\n",
    "        if rowx_notna[i]:\n",
    "            Sx2 += pow(rowx[i]-rowx_mean,2)\n",
    "        if rowy_notna[i]:\n",
    "            S2 += pow(rowy[i]-rowy_mean,2)\n",
    "        if rowy_notna[i] and rowx_notna[i]:\n",
    "            cov += (rowx[i]-rowx_mean)*(rowy[i]-rowy_mean)\n",
    "    return cov/np.sqrt(Sx2*S2)\n",
    "\n",
    "dataset5 = dataset.loc[::,2015:2020]\n",
    "dataset10 = dataset.loc[::,2010:2020]\n",
    "print('Для 2015-2020')\n",
    "print(f'pxy Рівень споживчих цін/Доходи і витрати населення : {pxy(dataset5,\"Рівень інфляції\",\"Доходи\")}')\n",
    "print(f'pxy Індекс споживчих цін/Безробіття : {pxy(dataset5,\"Інфляція\",\"Безробітне населення\")}')\n",
    "print(f'pxy ВВП/Населення : {pxy(dataset5,\"ВВП\",\"Населення\")}')\n",
    "print('Для 2010-2020')\n",
    "print(f'pxy Рівень споживчих цін/Доходи і витрати населення : {pxy(dataset10,\"Рівень інфляції\",\"Доходи\")}')\n",
    "print(f'pxy Індекс споживчих цін/Безробіття : {pxy(dataset10,\"Інфляція\",\"Безробітне населення\")}')\n",
    "print(f'pxy ВВП/Населення : {pxy(dataset10,\"ВВП\",\"Населення\")}')"
   ]
  },
  {
   "cell_type": "code",
   "execution_count": null,
   "metadata": {},
   "outputs": [],
   "source": [
    "def regression(plot, dataset, rowx_name,rowy_name):\n",
    "    rowx = dataset.loc[rowx_name,::]\n",
    "    rowy = dataset.loc[rowy_name,::]\n",
    "    plot.set_title(rowy_name + \" to \" + rowx_name + f'   pxy = {pxy(dataset,rowx_name,rowy_name)}')\n",
    "    plot.set_xlabel(rowx_name)\n",
    "    plot.set_ylabel(rowy_name)\n",
    "    plot.scatter(rowx, rowy)\n",
    "    m, b = np.polyfit(rowx, rowy, 1)\n",
    "    plot. plot(rowx, m*rowx + b)\n",
    "    plot.legend([f'{m}x'+(f'+{b}' if b>0 else f'{b}')])\n",
    "\n",
    "plt.rcParams['figure.figsize'] = [30, 20]\n",
    "fig, axs = plt.subplots(3,2)\n",
    "regression(axs[0][0],dataset5,\"Інфляція\",\"Доходи\")\n",
    "regression(axs[1][0],dataset5,\"Інфляція\",\"Безробітне населення\")\n",
    "regression(axs[2][0],dataset5,\"Інфляція\",\"ВВП\")\n",
    "regression(axs[0][1],dataset10,\"Інфляція\",\"Доходи\")\n",
    "regression(axs[1][1],dataset10,\"Інфляція\",\"Безробітне населення\")\n",
    "regression(axs[2][1],dataset10,\"Інфляція\",\"ВВП\")"
   ]
  },
  {
   "cell_type": "code",
   "execution_count": null,
   "metadata": {},
   "outputs": [],
   "source": [
    "plt.rcParams['figure.figsize'] = [30, 20]\n",
    "fig, axs = plt.subplots(3,2)\n",
    "regression(axs[0][0],dataset5,\"Інфляція\",\"ВВП\")\n",
    "regression(axs[1][0],dataset5,\"Безробітне населення\",\"ВВП\")\n",
    "regression(axs[2][0],dataset5,\"Доходи\",\"ВВП\")\n",
    "regression(axs[0][1],dataset10,\"Інфляція\",\"ВВП\")\n",
    "regression(axs[1][1],dataset10,\"Безробітне населення\",\"ВВП\")\n",
    "regression(axs[2][1],dataset10,\"Доходи\",\"ВВП\")"
   ]
  }
 ],
 "metadata": {
  "interpreter": {
   "hash": "1a40863750367200c88a0094d87b875140bd0f2cffbecc107a7d233aa34e83e8"
  },
  "kernelspec": {
   "display_name": "Python 3.9.12 64-bit (windows store)",
   "language": "python",
   "name": "python3"
  },
  "language_info": {
   "codemirror_mode": {
    "name": "ipython",
    "version": 3
   },
   "file_extension": ".py",
   "mimetype": "text/x-python",
   "name": "python",
   "nbconvert_exporter": "python",
   "pygments_lexer": "ipython3",
   "version": "3.10.3"
  },
  "orig_nbformat": 4
 },
 "nbformat": 4,
 "nbformat_minor": 2
}
